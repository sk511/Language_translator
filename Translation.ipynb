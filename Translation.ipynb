{
  "cells": [
    {
      "cell_type": "markdown",
      "metadata": {
        "id": "view-in-github",
        "colab_type": "text"
      },
      "source": [
        "<a href=\"https://colab.research.google.com/github/sk511/Language_translator/blob/main/Translation.ipynb\" target=\"_parent\"><img src=\"https://colab.research.google.com/assets/colab-badge.svg\" alt=\"Open In Colab\"/></a>"
      ]
    },
    {
      "cell_type": "code",
      "execution_count": null,
      "metadata": {
        "id": "NJzf8aef9c7I"
      },
      "outputs": [],
      "source": [
        "# Download datasets for training the model\n",
        "# http://www.manythings.org/anki/"
      ]
    },
    {
      "cell_type": "code",
      "execution_count": null,
      "metadata": {
        "id": "uQZ8EF9Nt0xL"
      },
      "outputs": [],
      "source": [
        "#In this Translation, we will be using LSTM for translating"
      ]
    },
    {
      "cell_type": "code",
      "execution_count": null,
      "metadata": {
        "id": "kaaA5v779gEG"
      },
      "outputs": [],
      "source": [
        "from tensorflow.keras.models import Model\n",
        "from  tensorflow.keras.layers import Input, LSTM, Dense\n",
        "import numpy as np"
      ]
    },
    {
      "cell_type": "code",
      "execution_count": null,
      "metadata": {
        "id": "SSFNUiyp9gIb"
      },
      "outputs": [],
      "source": [
        "# initializing the required variables\n",
        "batch_size=64     #batch size for training\n",
        "epochs=100        #number of epoch to train for\n",
        "latent_dim=256    #latent dimensionality of the encoding space\n",
        "num_samples=10000 #Number of samples to train on\n",
        "data_path=r'/content/hin_eng.txt'      #path to the dataset"
      ]
    },
    {
      "cell_type": "code",
      "execution_count": null,
      "metadata": {
        "id": "bcbXeCQv9gKv"
      },
      "outputs": [],
      "source": [
        "# vectorize the data(converting the text into vectors)\n",
        "input_texts=[]\n",
        "target_texts=[]\n",
        "input_characters=set()\n",
        "target_characters=set()\n",
        "with open(data_path,'r',encoding='utf-8') as f:\n",
        "  lines=f.read().split('\\n')\n",
        "for line in lines[:min(num_samples,len(lines)-1)]:\n",
        "  input_text,target_text,_=line.split('\\t')\n",
        "  target_text='\\t'+target_text+'\\n'\n",
        "  input_texts.append(input_text)\n",
        "  target_texts.append(target_text)\n",
        "  for char in input_text:\n",
        "    if char not in input_characters:\n",
        "      input_characters.add(char)\n",
        "  for char in target_text:\n",
        "    if char not in target_characters:\n",
        "      target_characters.add(char)"
      ]
    },
    {
      "cell_type": "code",
      "execution_count": null,
      "metadata": {
        "colab": {
          "base_uri": "https://localhost:8080/"
        },
        "id": "drqZjx2bBeDi",
        "outputId": "061fbff0-692c-49d3-fb35-e7bcca55bdd4"
      },
      "outputs": [
        {
          "output_type": "execute_result",
          "data": {
            "text/plain": [
              "90"
            ]
          },
          "metadata": {},
          "execution_count": 5
        }
      ],
      "source": [
        "len(target_characters)"
      ]
    },
    {
      "cell_type": "code",
      "execution_count": null,
      "metadata": {
        "id": "zNCMndaI9gNP"
      },
      "outputs": [],
      "source": [
        "input_characters=sorted(list(input_characters))\n",
        "target_characters=sorted(list(target_characters))\n",
        "num_encoder_tokens=len(input_characters)\n",
        "num_decoder_tokens=len(target_characters)\n",
        "max_encoder_seq_length=max([len(txt) for txt in input_texts])\n",
        "max_decoder_seq_length=max([len(txt) for txt in target_texts])"
      ]
    },
    {
      "cell_type": "code",
      "execution_count": null,
      "metadata": {
        "colab": {
          "base_uri": "https://localhost:8080/"
        },
        "id": "pT_5l-ii9gPZ",
        "outputId": "a16a7de5-91f8-45af-c58c-20dd5c358035"
      },
      "outputs": [
        {
          "output_type": "stream",
          "name": "stdout",
          "text": [
            "Number of samples:  2979\n",
            "Number of unique input tokens:  70\n",
            "Number of unique output tokens:  90\n",
            "Max sequence length for inputs:  107\n",
            "Max sequence length for outputs:  123\n"
          ]
        }
      ],
      "source": [
        "print('Number of samples: ',len(input_texts))\n",
        "print('Number of unique input tokens: ',num_encoder_tokens)\n",
        "print('Number of unique output tokens: ',num_decoder_tokens)\n",
        "print('Max sequence length for inputs: ',max_encoder_seq_length)\n",
        "print('Max sequence length for outputs: ',max_decoder_seq_length)"
      ]
    },
    {
      "cell_type": "code",
      "execution_count": null,
      "metadata": {
        "id": "ztyTGGRe9gRC"
      },
      "outputs": [],
      "source": [
        "input_token_index=dict(\n",
        "    [(char,i) for i, char in enumerate(input_characters)])\n",
        "target_token_index=dict(\n",
        "    [(char,i) for i, char in enumerate(target_characters)])"
      ]
    },
    {
      "cell_type": "code",
      "execution_count": null,
      "metadata": {
        "id": "PChswxMI9gTp"
      },
      "outputs": [],
      "source": [
        "target_token_index"
      ]
    },
    {
      "cell_type": "code",
      "execution_count": null,
      "metadata": {
        "id": "3k8y36fq9gVS"
      },
      "outputs": [],
      "source": [
        "encoder_input_data=np.zeros(\n",
        "    (len(input_texts),max_encoder_seq_length, num_encoder_tokens),\n",
        "    dtype='float32')\n",
        "decoder_input_data=np.zeros(\n",
        "    (len(input_texts),max_decoder_seq_length, num_decoder_tokens),\n",
        "    dtype='float32')\n",
        "decoder_target_data=np.zeros(\n",
        "    (len(input_texts),max_decoder_seq_length, num_decoder_tokens),\n",
        "    dtype='float32')"
      ]
    },
    {
      "cell_type": "code",
      "execution_count": null,
      "metadata": {
        "id": "UfIMuXew9gXn"
      },
      "outputs": [],
      "source": [
        "encoder_input_data"
      ]
    },
    {
      "cell_type": "code",
      "execution_count": null,
      "metadata": {
        "id": "ZHKFFH3g9gaF"
      },
      "outputs": [],
      "source": [
        "# one hot representation\n",
        "for i, (input_text,target_text) in enumerate(zip(input_texts,target_texts)):\n",
        "  for t, char in enumerate(input_text):\n",
        "    encoder_input_data[i, t, input_token_index[char]]=1\n",
        "  encoder_input_data[i,t+1:,input_token_index[' ']]=1\n",
        "  for t, char in enumerate(target_text):\n",
        "    decoder_input_data[i, t, target_token_index[char]]=1\n",
        "    if t>0:\n",
        "      decoder_target_data[i,t-1,target_token_index[char]]=1\n",
        "  decoder_input_data[i,t+1:,target_token_index[' ']]=1\n",
        "  decoder_target_data[i,t:,target_token_index[' ']]=1"
      ]
    },
    {
      "cell_type": "code",
      "execution_count": null,
      "metadata": {
        "colab": {
          "base_uri": "https://localhost:8080/"
        },
        "id": "fyfv5I4t9gea",
        "outputId": "bf61c995-5fdd-4054-a151-c58265fcf14c"
      },
      "outputs": [
        {
          "output_type": "execute_result",
          "data": {
            "text/plain": [
              "(107, 70)"
            ]
          },
          "metadata": {},
          "execution_count": 12
        }
      ],
      "source": [
        "encoder_input_data[0].shape"
      ]
    },
    {
      "cell_type": "code",
      "execution_count": null,
      "metadata": {
        "id": "LTxPS-yU9ggm"
      },
      "outputs": [],
      "source": [
        "# Define an input sequence and process it\n",
        "encoder_inputs=Input(shape=(None,num_encoder_tokens))\n",
        "encoder=LSTM(latent_dim,return_state=True)\n",
        "encoder_outputs, state_h, state_c=encoder(encoder_inputs)\n",
        "# we discard the encoder_output and only keep the states\n",
        "encoder_states=[state_h,state_c]"
      ]
    },
    {
      "cell_type": "code",
      "execution_count": null,
      "metadata": {
        "id": "ZCPRFa2P9giv"
      },
      "outputs": [],
      "source": [
        "# set up the decoder using encoder_states as initial states\n",
        "decoder_inputs=Input(shape=(None,num_decoder_tokens))\n",
        "# we setup our decoder to return full output sequence and internal\n",
        "# states. We don't use the return states in the training model\n",
        "# but we will use them in inference.\n",
        "decoder_lstm=LSTM(latent_dim, return_sequences=True,return_state=True)\n",
        "decoder_outputs,_,_=decoder_lstm(decoder_inputs,\n",
        "                                 initial_state=encoder_states)\n",
        "decoder_dense=Dense(num_decoder_tokens, activation='softmax')\n",
        "decoder_outputs=decoder_dense(decoder_outputs)"
      ]
    },
    {
      "cell_type": "code",
      "execution_count": null,
      "metadata": {
        "colab": {
          "base_uri": "https://localhost:8080/"
        },
        "id": "iw_DLZht9glX",
        "outputId": "b6f68fdb-f6f7-4670-863e-f3e49a299e1b"
      },
      "outputs": [
        {
          "output_type": "stream",
          "name": "stdout",
          "text": [
            "Epoch 1/100\n",
            "38/38 [==============================] - 55s 1s/step - loss: 1.2870 - accuracy: 0.7853 - val_loss: 1.6085 - val_accuracy: 0.6869\n",
            "Epoch 2/100\n",
            "38/38 [==============================] - 50s 1s/step - loss: 1.0098 - accuracy: 0.8083 - val_loss: 1.6662 - val_accuracy: 0.6844\n",
            "Epoch 3/100\n",
            "38/38 [==============================] - 50s 1s/step - loss: 0.8897 - accuracy: 0.8080 - val_loss: 1.4936 - val_accuracy: 0.6873\n",
            "Epoch 4/100\n",
            "38/38 [==============================] - 51s 1s/step - loss: 0.8468 - accuracy: 0.8089 - val_loss: 1.4527 - val_accuracy: 0.6873\n",
            "Epoch 5/100\n",
            "38/38 [==============================] - 51s 1s/step - loss: 0.8769 - accuracy: 0.8026 - val_loss: 1.4200 - val_accuracy: 0.6873\n",
            "Epoch 6/100\n",
            "38/38 [==============================] - 54s 1s/step - loss: 0.8068 - accuracy: 0.8089 - val_loss: 1.3587 - val_accuracy: 0.6873\n",
            "Epoch 7/100\n",
            "38/38 [==============================] - 52s 1s/step - loss: 0.7933 - accuracy: 0.8083 - val_loss: 1.3138 - val_accuracy: 0.6872\n",
            "Epoch 8/100\n",
            "38/38 [==============================] - 51s 1s/step - loss: 0.7756 - accuracy: 0.8084 - val_loss: 1.3197 - val_accuracy: 0.6799\n",
            "Epoch 9/100\n",
            "38/38 [==============================] - 51s 1s/step - loss: 0.7811 - accuracy: 0.8104 - val_loss: 1.2796 - val_accuracy: 0.6884\n",
            "Epoch 10/100\n",
            "38/38 [==============================] - 57s 1s/step - loss: 0.7403 - accuracy: 0.8139 - val_loss: 1.2706 - val_accuracy: 0.6904\n",
            "Epoch 11/100\n",
            "38/38 [==============================] - 51s 1s/step - loss: 0.7359 - accuracy: 0.8171 - val_loss: 1.2059 - val_accuracy: 0.7009\n",
            "Epoch 12/100\n",
            "38/38 [==============================] - 50s 1s/step - loss: 0.7257 - accuracy: 0.8239 - val_loss: 1.2469 - val_accuracy: 0.6961\n",
            "Epoch 13/100\n",
            "38/38 [==============================] - 55s 1s/step - loss: 0.6753 - accuracy: 0.8304 - val_loss: 1.1531 - val_accuracy: 0.7145\n",
            "Epoch 14/100\n",
            "38/38 [==============================] - 51s 1s/step - loss: 0.6503 - accuracy: 0.8370 - val_loss: 1.1586 - val_accuracy: 0.7036\n",
            "Epoch 15/100\n",
            "38/38 [==============================] - 50s 1s/step - loss: 0.6582 - accuracy: 0.8390 - val_loss: 1.0830 - val_accuracy: 0.7242\n",
            "Epoch 16/100\n",
            "38/38 [==============================] - 49s 1s/step - loss: 0.6097 - accuracy: 0.8440 - val_loss: 1.0637 - val_accuracy: 0.7259\n",
            "Epoch 17/100\n",
            "38/38 [==============================] - 54s 1s/step - loss: 0.5967 - accuracy: 0.8456 - val_loss: 1.0615 - val_accuracy: 0.7238\n",
            "Epoch 18/100\n",
            "38/38 [==============================] - 49s 1s/step - loss: 0.5835 - accuracy: 0.8485 - val_loss: 1.0176 - val_accuracy: 0.7311\n",
            "Epoch 19/100\n",
            "38/38 [==============================] - 49s 1s/step - loss: 0.5724 - accuracy: 0.8508 - val_loss: 1.0089 - val_accuracy: 0.7369\n",
            "Epoch 20/100\n",
            "38/38 [==============================] - 53s 1s/step - loss: 0.5622 - accuracy: 0.8530 - val_loss: 0.9749 - val_accuracy: 0.7486\n",
            "Epoch 21/100\n",
            "38/38 [==============================] - 52s 1s/step - loss: 0.6244 - accuracy: 0.8444 - val_loss: 1.0027 - val_accuracy: 0.7412\n",
            "Epoch 22/100\n",
            "38/38 [==============================] - 50s 1s/step - loss: 0.5488 - accuracy: 0.8566 - val_loss: 0.9615 - val_accuracy: 0.7451\n",
            "Epoch 23/100\n",
            "38/38 [==============================] - 55s 1s/step - loss: 0.5384 - accuracy: 0.8586 - val_loss: 0.9555 - val_accuracy: 0.7468\n",
            "Epoch 24/100\n",
            "38/38 [==============================] - 50s 1s/step - loss: 0.5337 - accuracy: 0.8598 - val_loss: 0.9568 - val_accuracy: 0.7449\n",
            "Epoch 25/100\n",
            "38/38 [==============================] - 51s 1s/step - loss: 0.5273 - accuracy: 0.8615 - val_loss: 0.9319 - val_accuracy: 0.7561\n",
            "Epoch 26/100\n",
            "38/38 [==============================] - 54s 1s/step - loss: 0.5202 - accuracy: 0.8635 - val_loss: 0.9276 - val_accuracy: 0.7561\n",
            "Epoch 27/100\n",
            "38/38 [==============================] - 49s 1s/step - loss: 0.5142 - accuracy: 0.8653 - val_loss: 0.9135 - val_accuracy: 0.7636\n",
            "Epoch 28/100\n",
            "38/38 [==============================] - 50s 1s/step - loss: 0.5079 - accuracy: 0.8667 - val_loss: 0.8977 - val_accuracy: 0.7665\n",
            "Epoch 29/100\n",
            "38/38 [==============================] - 52s 1s/step - loss: 0.5032 - accuracy: 0.8678 - val_loss: 0.9159 - val_accuracy: 0.7572\n",
            "Epoch 30/100\n",
            "38/38 [==============================] - 52s 1s/step - loss: 0.4981 - accuracy: 0.8688 - val_loss: 0.9159 - val_accuracy: 0.7553\n",
            "Epoch 31/100\n",
            "38/38 [==============================] - 50s 1s/step - loss: 0.4940 - accuracy: 0.8696 - val_loss: 0.8931 - val_accuracy: 0.7664\n",
            "Epoch 32/100\n",
            "38/38 [==============================] - 52s 1s/step - loss: 0.4897 - accuracy: 0.8707 - val_loss: 0.8812 - val_accuracy: 0.7678\n",
            "Epoch 33/100\n",
            "38/38 [==============================] - 52s 1s/step - loss: 0.4851 - accuracy: 0.8715 - val_loss: 0.8810 - val_accuracy: 0.7666\n",
            "Epoch 34/100\n",
            "38/38 [==============================] - 48s 1s/step - loss: 0.4815 - accuracy: 0.8724 - val_loss: 0.8798 - val_accuracy: 0.7680\n",
            "Epoch 35/100\n",
            "38/38 [==============================] - 53s 1s/step - loss: 0.4783 - accuracy: 0.8729 - val_loss: 0.8752 - val_accuracy: 0.7670\n",
            "Epoch 36/100\n",
            "38/38 [==============================] - 48s 1s/step - loss: 0.4745 - accuracy: 0.8737 - val_loss: 0.8585 - val_accuracy: 0.7730\n",
            "Epoch 37/100\n",
            "38/38 [==============================] - 49s 1s/step - loss: 0.4717 - accuracy: 0.8743 - val_loss: 0.8440 - val_accuracy: 0.7766\n",
            "Epoch 38/100\n",
            "38/38 [==============================] - 53s 1s/step - loss: 0.4683 - accuracy: 0.8752 - val_loss: 0.8539 - val_accuracy: 0.7713\n",
            "Epoch 39/100\n",
            "38/38 [==============================] - 47s 1s/step - loss: 0.4652 - accuracy: 0.8756 - val_loss: 0.8533 - val_accuracy: 0.7744\n",
            "Epoch 40/100\n",
            "38/38 [==============================] - 49s 1s/step - loss: 0.4624 - accuracy: 0.8765 - val_loss: 0.8402 - val_accuracy: 0.7761\n",
            "Epoch 41/100\n",
            "38/38 [==============================] - 51s 1s/step - loss: 0.4598 - accuracy: 0.8768 - val_loss: 0.8464 - val_accuracy: 0.7764\n",
            "Epoch 42/100\n",
            "38/38 [==============================] - 50s 1s/step - loss: 0.4569 - accuracy: 0.8774 - val_loss: 0.8393 - val_accuracy: 0.7764\n",
            "Epoch 43/100\n",
            "38/38 [==============================] - 48s 1s/step - loss: 0.4541 - accuracy: 0.8774 - val_loss: 0.8448 - val_accuracy: 0.7748\n",
            "Epoch 44/100\n",
            "38/38 [==============================] - 51s 1s/step - loss: 0.4518 - accuracy: 0.8781 - val_loss: 0.8379 - val_accuracy: 0.7761\n",
            "Epoch 45/100\n",
            "38/38 [==============================] - 49s 1s/step - loss: 0.4493 - accuracy: 0.8783 - val_loss: 0.8307 - val_accuracy: 0.7766\n",
            "Epoch 46/100\n",
            "38/38 [==============================] - 49s 1s/step - loss: 0.4464 - accuracy: 0.8791 - val_loss: 0.8316 - val_accuracy: 0.7757\n",
            "Epoch 47/100\n",
            "38/38 [==============================] - 53s 1s/step - loss: 0.4440 - accuracy: 0.8793 - val_loss: 0.8290 - val_accuracy: 0.7764\n",
            "Epoch 48/100\n",
            "38/38 [==============================] - 48s 1s/step - loss: 0.4421 - accuracy: 0.8799 - val_loss: 0.8274 - val_accuracy: 0.7782\n",
            "Epoch 49/100\n",
            "38/38 [==============================] - 47s 1s/step - loss: 0.4397 - accuracy: 0.8802 - val_loss: 0.8352 - val_accuracy: 0.7766\n",
            "Epoch 50/100\n",
            "38/38 [==============================] - 49s 1s/step - loss: 0.4377 - accuracy: 0.8806 - val_loss: 0.8253 - val_accuracy: 0.7766\n",
            "Epoch 51/100\n",
            "38/38 [==============================] - 49s 1s/step - loss: 0.4346 - accuracy: 0.8815 - val_loss: 0.8269 - val_accuracy: 0.7764\n",
            "Epoch 52/100\n",
            "38/38 [==============================] - 49s 1s/step - loss: 0.4330 - accuracy: 0.8814 - val_loss: 0.8115 - val_accuracy: 0.7820\n",
            "Epoch 53/100\n",
            "38/38 [==============================] - 48s 1s/step - loss: 0.4307 - accuracy: 0.8822 - val_loss: 0.8381 - val_accuracy: 0.7740\n",
            "Epoch 54/100\n",
            "38/38 [==============================] - 50s 1s/step - loss: 0.4291 - accuracy: 0.8825 - val_loss: 0.8105 - val_accuracy: 0.7828\n",
            "Epoch 55/100\n",
            "38/38 [==============================] - 48s 1s/step - loss: 0.4264 - accuracy: 0.8830 - val_loss: 0.8065 - val_accuracy: 0.7836\n",
            "Epoch 56/100\n",
            "38/38 [==============================] - 49s 1s/step - loss: 0.4248 - accuracy: 0.8830 - val_loss: 0.8132 - val_accuracy: 0.7798\n",
            "Epoch 57/100\n",
            "38/38 [==============================] - 49s 1s/step - loss: 0.4227 - accuracy: 0.8837 - val_loss: 0.8064 - val_accuracy: 0.7831\n",
            "Epoch 58/100\n",
            "38/38 [==============================] - 49s 1s/step - loss: 0.4204 - accuracy: 0.8842 - val_loss: 0.8106 - val_accuracy: 0.7825\n",
            "Epoch 59/100\n",
            "38/38 [==============================] - 47s 1s/step - loss: 0.4184 - accuracy: 0.8848 - val_loss: 0.8043 - val_accuracy: 0.7847\n",
            "Epoch 60/100\n",
            "38/38 [==============================] - 50s 1s/step - loss: 0.4171 - accuracy: 0.8848 - val_loss: 0.8003 - val_accuracy: 0.7830\n",
            "Epoch 61/100\n",
            "38/38 [==============================] - 48s 1s/step - loss: 0.4148 - accuracy: 0.8853 - val_loss: 0.8065 - val_accuracy: 0.7795\n",
            "Epoch 62/100\n",
            "38/38 [==============================] - 48s 1s/step - loss: 0.4136 - accuracy: 0.8858 - val_loss: 0.7975 - val_accuracy: 0.7849\n",
            "Epoch 63/100\n",
            "38/38 [==============================] - 53s 1s/step - loss: 0.4112 - accuracy: 0.8859 - val_loss: 0.8067 - val_accuracy: 0.7828\n",
            "Epoch 64/100\n",
            "38/38 [==============================] - 49s 1s/step - loss: 0.4092 - accuracy: 0.8863 - val_loss: 0.7982 - val_accuracy: 0.7849\n",
            "Epoch 65/100\n",
            "38/38 [==============================] - 49s 1s/step - loss: 0.4072 - accuracy: 0.8872 - val_loss: 0.7913 - val_accuracy: 0.7820\n",
            "Epoch 66/100\n",
            "38/38 [==============================] - 52s 1s/step - loss: 0.4054 - accuracy: 0.8878 - val_loss: 0.7959 - val_accuracy: 0.7834\n",
            "Epoch 67/100\n",
            "38/38 [==============================] - 48s 1s/step - loss: 0.4039 - accuracy: 0.8878 - val_loss: 0.7932 - val_accuracy: 0.7841\n",
            "Epoch 68/100\n",
            "38/38 [==============================] - 49s 1s/step - loss: 0.4019 - accuracy: 0.8885 - val_loss: 0.7874 - val_accuracy: 0.7862\n",
            "Epoch 69/100\n",
            "38/38 [==============================] - 51s 1s/step - loss: 0.4005 - accuracy: 0.8886 - val_loss: 0.7879 - val_accuracy: 0.7859\n",
            "Epoch 70/100\n",
            "38/38 [==============================] - 48s 1s/step - loss: 0.3981 - accuracy: 0.8897 - val_loss: 0.7821 - val_accuracy: 0.7866\n",
            "Epoch 71/100\n",
            "38/38 [==============================] - 48s 1s/step - loss: 0.3962 - accuracy: 0.8898 - val_loss: 0.7884 - val_accuracy: 0.7849\n",
            "Epoch 72/100\n",
            "38/38 [==============================] - 52s 1s/step - loss: 0.3943 - accuracy: 0.8901 - val_loss: 0.7947 - val_accuracy: 0.7815\n",
            "Epoch 73/100\n",
            "38/38 [==============================] - 50s 1s/step - loss: 0.3928 - accuracy: 0.8905 - val_loss: 0.7783 - val_accuracy: 0.7873\n",
            "Epoch 74/100\n",
            "38/38 [==============================] - 54s 1s/step - loss: 0.3912 - accuracy: 0.8912 - val_loss: 0.7913 - val_accuracy: 0.7858\n",
            "Epoch 75/100\n",
            "38/38 [==============================] - 49s 1s/step - loss: 0.3896 - accuracy: 0.8916 - val_loss: 0.7792 - val_accuracy: 0.7871\n",
            "Epoch 76/100\n",
            "38/38 [==============================] - 50s 1s/step - loss: 0.3868 - accuracy: 0.8922 - val_loss: 0.7762 - val_accuracy: 0.7896\n",
            "Epoch 77/100\n",
            "38/38 [==============================] - 52s 1s/step - loss: 0.3860 - accuracy: 0.8927 - val_loss: 0.7721 - val_accuracy: 0.7870\n",
            "Epoch 78/100\n",
            "38/38 [==============================] - 50s 1s/step - loss: 0.3839 - accuracy: 0.8929 - val_loss: 0.7930 - val_accuracy: 0.7860\n",
            "Epoch 79/100\n",
            "38/38 [==============================] - 50s 1s/step - loss: 0.3821 - accuracy: 0.8935 - val_loss: 0.7718 - val_accuracy: 0.7893\n",
            "Epoch 80/100\n",
            "38/38 [==============================] - 53s 1s/step - loss: 0.3812 - accuracy: 0.8937 - val_loss: 0.7789 - val_accuracy: 0.7899\n",
            "Epoch 81/100\n",
            "38/38 [==============================] - 48s 1s/step - loss: 0.3785 - accuracy: 0.8945 - val_loss: 0.7794 - val_accuracy: 0.7862\n",
            "Epoch 82/100\n",
            "38/38 [==============================] - 50s 1s/step - loss: 0.3774 - accuracy: 0.8947 - val_loss: 0.7711 - val_accuracy: 0.7893\n",
            "Epoch 83/100\n",
            "38/38 [==============================] - 54s 1s/step - loss: 0.3755 - accuracy: 0.8953 - val_loss: 0.7785 - val_accuracy: 0.7884\n",
            "Epoch 84/100\n",
            "38/38 [==============================] - 49s 1s/step - loss: 0.3735 - accuracy: 0.8955 - val_loss: 0.7876 - val_accuracy: 0.7888\n",
            "Epoch 85/100\n",
            "38/38 [==============================] - 49s 1s/step - loss: 0.3720 - accuracy: 0.8962 - val_loss: 0.7837 - val_accuracy: 0.7880\n",
            "Epoch 86/100\n",
            "38/38 [==============================] - 53s 1s/step - loss: 0.3699 - accuracy: 0.8968 - val_loss: 0.7862 - val_accuracy: 0.7894\n",
            "Epoch 87/100\n",
            "38/38 [==============================] - 49s 1s/step - loss: 0.3688 - accuracy: 0.8971 - val_loss: 0.7703 - val_accuracy: 0.7915\n",
            "Epoch 88/100\n",
            "38/38 [==============================] - 50s 1s/step - loss: 0.3670 - accuracy: 0.8975 - val_loss: 0.7733 - val_accuracy: 0.7902\n",
            "Epoch 89/100\n",
            "38/38 [==============================] - 53s 1s/step - loss: 0.3651 - accuracy: 0.8980 - val_loss: 0.7728 - val_accuracy: 0.7918\n",
            "Epoch 90/100\n",
            "38/38 [==============================] - 50s 1s/step - loss: 0.3629 - accuracy: 0.8986 - val_loss: 0.7699 - val_accuracy: 0.7902\n",
            "Epoch 91/100\n",
            "38/38 [==============================] - 50s 1s/step - loss: 0.3616 - accuracy: 0.8992 - val_loss: 0.7697 - val_accuracy: 0.7901\n",
            "Epoch 92/100\n",
            "38/38 [==============================] - 50s 1s/step - loss: 0.3604 - accuracy: 0.8993 - val_loss: 0.7765 - val_accuracy: 0.7900\n",
            "Epoch 93/100\n",
            "38/38 [==============================] - 50s 1s/step - loss: 0.3583 - accuracy: 0.8998 - val_loss: 0.7870 - val_accuracy: 0.7881\n",
            "Epoch 94/100\n",
            "38/38 [==============================] - 50s 1s/step - loss: 0.3568 - accuracy: 0.9003 - val_loss: 0.7860 - val_accuracy: 0.7864\n",
            "Epoch 95/100\n",
            "38/38 [==============================] - 48s 1s/step - loss: 0.3545 - accuracy: 0.9008 - val_loss: 0.7804 - val_accuracy: 0.7906\n",
            "Epoch 96/100\n",
            "38/38 [==============================] - 51s 1s/step - loss: 0.3532 - accuracy: 0.9012 - val_loss: 0.7768 - val_accuracy: 0.7900\n",
            "Epoch 97/100\n",
            "38/38 [==============================] - 51s 1s/step - loss: 0.3518 - accuracy: 0.9017 - val_loss: 0.7804 - val_accuracy: 0.7901\n",
            "Epoch 98/100\n",
            "38/38 [==============================] - 48s 1s/step - loss: 0.3496 - accuracy: 0.9021 - val_loss: 0.7806 - val_accuracy: 0.7901\n",
            "Epoch 99/100\n",
            "38/38 [==============================] - 49s 1s/step - loss: 0.3483 - accuracy: 0.9023 - val_loss: 0.7853 - val_accuracy: 0.7905\n",
            "Epoch 100/100\n",
            "38/38 [==============================] - 51s 1s/step - loss: 0.3465 - accuracy: 0.9028 - val_loss: 0.7693 - val_accuracy: 0.7919\n"
          ]
        },
        {
          "output_type": "execute_result",
          "data": {
            "text/plain": [
              "<keras.callbacks.History at 0x7a5b4fef2ef0>"
            ]
          },
          "metadata": {},
          "execution_count": 15
        }
      ],
      "source": [
        "# Defining the model that will turn encoder and decoder input data\n",
        "# into decoder target data\n",
        "model=Model([encoder_inputs,decoder_inputs],decoder_outputs)\n",
        "\n",
        "# Training the model\n",
        "model.compile(optimizer='rmsprop',loss='categorical_crossentropy',\n",
        "              metrics=['accuracy'])\n",
        "model.fit([encoder_input_data,decoder_input_data],decoder_target_data,\n",
        "          batch_size=batch_size,\n",
        "          epochs=epochs,\n",
        "          validation_split=0.2)"
      ]
    },
    {
      "cell_type": "code",
      "execution_count": null,
      "metadata": {
        "id": "X2GgOEiO9gnt"
      },
      "outputs": [],
      "source": [
        "# import pickle\n",
        "# pickle.dump(model,open('fre_eng.pkl','wb'))\n",
        "\n",
        "import tensorflow as tf\n",
        "\n",
        "# Assume you have a TensorFlow model 'model'\n",
        "model.save('/content/model')"
      ]
    },
    {
      "cell_type": "code",
      "execution_count": null,
      "metadata": {
        "id": "0pTVZ39Pn7VQ"
      },
      "outputs": [],
      "source": [
        "from tensorflow.keras.models import load_model\n",
        "\n",
        "# Assume you have a Keras model 'model'\n",
        "model.save('/content/model.h5')"
      ]
    },
    {
      "cell_type": "code",
      "execution_count": null,
      "metadata": {
        "id": "mm39nntO9gqf"
      },
      "outputs": [],
      "source": [
        "import tensorflow as tf\n",
        "\n",
        "# Load the original TensorFlow model\n",
        "loaded_model = tf.keras.models.load_model('/content/model')\n",
        "\n",
        "# Convert the model to TensorFlow Lite format with Graph Mode serialization\n",
        "converter = tf.lite.TFLiteConverter.from_keras_model(loaded_model)\n",
        "converter.experimental_enable_resource_variables = True\n",
        "tflite_model = converter.convert()\n",
        "\n",
        "# Save the converted model to a .tflite file\n",
        "with open('converted_model.tflite', 'wb') as f:\n",
        "    f.write(tflite_model)"
      ]
    },
    {
      "cell_type": "code",
      "execution_count": null,
      "metadata": {
        "id": "qF0S7imI9gsw"
      },
      "outputs": [],
      "source": []
    },
    {
      "cell_type": "code",
      "execution_count": null,
      "metadata": {
        "id": "7TQw7ogu9gvQ"
      },
      "outputs": [],
      "source": []
    },
    {
      "cell_type": "code",
      "execution_count": null,
      "metadata": {
        "id": "JZRwyoJQ9gxy"
      },
      "outputs": [],
      "source": []
    },
    {
      "cell_type": "code",
      "execution_count": null,
      "metadata": {
        "id": "Fw5WA2qc9g0L"
      },
      "outputs": [],
      "source": []
    },
    {
      "cell_type": "code",
      "execution_count": null,
      "metadata": {
        "id": "DuK9hEkY9g23"
      },
      "outputs": [],
      "source": []
    },
    {
      "cell_type": "code",
      "execution_count": null,
      "metadata": {
        "id": "pDiNJrVg9g5M"
      },
      "outputs": [],
      "source": []
    },
    {
      "cell_type": "code",
      "execution_count": null,
      "metadata": {
        "id": "L7724ScU9g7v"
      },
      "outputs": [],
      "source": []
    },
    {
      "cell_type": "code",
      "execution_count": null,
      "metadata": {
        "id": "uZqEfyrN9g-G"
      },
      "outputs": [],
      "source": []
    },
    {
      "cell_type": "code",
      "execution_count": null,
      "metadata": {
        "id": "Wm-71JXs9hAw"
      },
      "outputs": [],
      "source": []
    },
    {
      "cell_type": "code",
      "execution_count": null,
      "metadata": {
        "id": "m3i7ohK69hDI"
      },
      "outputs": [],
      "source": []
    },
    {
      "cell_type": "code",
      "execution_count": null,
      "metadata": {
        "id": "ziamFf6h9hFv"
      },
      "outputs": [],
      "source": []
    },
    {
      "cell_type": "code",
      "execution_count": null,
      "metadata": {
        "id": "s-Kb8KVJ9hIL"
      },
      "outputs": [],
      "source": []
    },
    {
      "cell_type": "code",
      "execution_count": null,
      "metadata": {
        "id": "CtEda7Sv9hKb"
      },
      "outputs": [],
      "source": []
    },
    {
      "cell_type": "code",
      "execution_count": null,
      "metadata": {
        "id": "he_ogsMp9hMt"
      },
      "outputs": [],
      "source": []
    },
    {
      "cell_type": "code",
      "execution_count": null,
      "metadata": {
        "id": "mr_1EjRO9hPc"
      },
      "outputs": [],
      "source": []
    },
    {
      "cell_type": "code",
      "execution_count": null,
      "metadata": {
        "id": "8oHUKwYI9hRZ"
      },
      "outputs": [],
      "source": []
    },
    {
      "cell_type": "code",
      "execution_count": null,
      "metadata": {
        "id": "wHjfmK1q9hUz"
      },
      "outputs": [],
      "source": []
    }
  ],
  "metadata": {
    "colab": {
      "provenance": [],
      "authorship_tag": "ABX9TyNA16ESIDrg8z0O3JZnbshe",
      "include_colab_link": true
    },
    "kernelspec": {
      "display_name": "Python 3",
      "name": "python3"
    },
    "language_info": {
      "name": "python"
    }
  },
  "nbformat": 4,
  "nbformat_minor": 0
}